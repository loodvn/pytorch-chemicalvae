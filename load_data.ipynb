{
 "cells": [
  {
   "cell_type": "markdown",
   "id": "conceptual-virgin",
   "metadata": {},
   "source": [
    "Load Zinc-250k dataset in SMILES format"
   ]
  },
  {
   "cell_type": "markdown",
   "id": "velvet-battery",
   "metadata": {},
   "source": [
    "TODO rather download in script?\n",
    "\n",
    "https://github.com/aspuru-guzik-group/chemical_vae \n",
    "\n",
    "From https://github.com/aspuru-guzik-group/chemical_vae/blob/master/models/zinc_properties/250k_rndm_zinc_drugs_clean_3.csv\n",
    "\n",
    "https://github.com/chainer/chainer-chemistry/blob/master/chainer_chemistry/datasets/zinc.py"
   ]
  },
  {
   "cell_type": "code",
   "execution_count": 2,
   "id": "technical-turtle",
   "metadata": {},
   "outputs": [],
   "source": [
    "import pandas as pd\n",
    "import numpy as np\n",
    "import data.mol_utils as mu"
   ]
  },
  {
   "cell_type": "code",
   "execution_count": 3,
   "id": "improving-grace",
   "metadata": {},
   "outputs": [
    {
     "data": {
      "text/html": [
       "<div>\n",
       "<style scoped>\n",
       "    .dataframe tbody tr th:only-of-type {\n",
       "        vertical-align: middle;\n",
       "    }\n",
       "\n",
       "    .dataframe tbody tr th {\n",
       "        vertical-align: top;\n",
       "    }\n",
       "\n",
       "    .dataframe thead th {\n",
       "        text-align: right;\n",
       "    }\n",
       "</style>\n",
       "<table border=\"1\" class=\"dataframe\">\n",
       "  <thead>\n",
       "    <tr style=\"text-align: right;\">\n",
       "      <th></th>\n",
       "      <th>smiles</th>\n",
       "      <th>logP</th>\n",
       "      <th>qed</th>\n",
       "      <th>SAS</th>\n",
       "    </tr>\n",
       "  </thead>\n",
       "  <tbody>\n",
       "    <tr>\n",
       "      <th>0</th>\n",
       "      <td>CC(C)(C)c1ccc2occ(CC(=O)Nc3ccccc3F)c2c1\\n</td>\n",
       "      <td>5.05060</td>\n",
       "      <td>0.702012</td>\n",
       "      <td>2.084095</td>\n",
       "    </tr>\n",
       "    <tr>\n",
       "      <th>1</th>\n",
       "      <td>C[C@@H]1CC(Nc2cncc(-c3nncn3C)c2)C[C@@H](C)C1\\n</td>\n",
       "      <td>3.11370</td>\n",
       "      <td>0.928975</td>\n",
       "      <td>3.432004</td>\n",
       "    </tr>\n",
       "    <tr>\n",
       "      <th>2</th>\n",
       "      <td>N#Cc1ccc(-c2ccc(O[C@@H](C(=O)N3CCCC3)c3ccccc3)...</td>\n",
       "      <td>4.96778</td>\n",
       "      <td>0.599682</td>\n",
       "      <td>2.470633</td>\n",
       "    </tr>\n",
       "    <tr>\n",
       "      <th>3</th>\n",
       "      <td>CCOC(=O)[C@@H]1CCCN(C(=O)c2nc(-c3ccc(C)cc3)n3c...</td>\n",
       "      <td>4.00022</td>\n",
       "      <td>0.690944</td>\n",
       "      <td>2.822753</td>\n",
       "    </tr>\n",
       "    <tr>\n",
       "      <th>4</th>\n",
       "      <td>N#CC1=C(SCC(=O)Nc2cccc(Cl)c2)N=C([O-])[C@H](C#...</td>\n",
       "      <td>3.60956</td>\n",
       "      <td>0.789027</td>\n",
       "      <td>4.035182</td>\n",
       "    </tr>\n",
       "  </tbody>\n",
       "</table>\n",
       "</div>"
      ],
      "text/plain": [
       "                                              smiles     logP       qed  \\\n",
       "0          CC(C)(C)c1ccc2occ(CC(=O)Nc3ccccc3F)c2c1\\n  5.05060  0.702012   \n",
       "1     C[C@@H]1CC(Nc2cncc(-c3nncn3C)c2)C[C@@H](C)C1\\n  3.11370  0.928975   \n",
       "2  N#Cc1ccc(-c2ccc(O[C@@H](C(=O)N3CCCC3)c3ccccc3)...  4.96778  0.599682   \n",
       "3  CCOC(=O)[C@@H]1CCCN(C(=O)c2nc(-c3ccc(C)cc3)n3c...  4.00022  0.690944   \n",
       "4  N#CC1=C(SCC(=O)Nc2cccc(Cl)c2)N=C([O-])[C@H](C#...  3.60956  0.789027   \n",
       "\n",
       "        SAS  \n",
       "0  2.084095  \n",
       "1  3.432004  \n",
       "2  2.470633  \n",
       "3  2.822753  \n",
       "4  4.035182  "
      ]
     },
     "execution_count": 3,
     "metadata": {},
     "output_type": "execute_result"
    }
   ],
   "source": [
    "df_raw = pd.read_csv(\"data/250k_rndm_zinc_drugs_clean_3.csv\")\n",
    "df_raw.head()"
   ]
  },
  {
   "cell_type": "markdown",
   "id": "athletic-shareware",
   "metadata": {},
   "source": [
    "Preprocessing\n",
    "\n",
    "- subset of 35 different characters for ZINC  TODO Which ones?\n",
    "- Shorter strings were padded with spaces, total length 120\n",
    "- canonicalized SMILES for training\n",
    "\n",
    "Model input:\n",
    "- one-hot encoding (e.g. tutorial https://pytorch.org/tutorials/intermediate/char_rnn_classification_tutorial.html#turning-names-into-tensors)"
   ]
  },
  {
   "cell_type": "code",
   "execution_count": 4,
   "id": "tutorial-johns",
   "metadata": {},
   "outputs": [
    {
     "data": {
      "text/plain": [
       "'CC(C)(C)c1ccc2occ(CC(=O)Nc3ccccc3F)c2c1                                                                                 '"
      ]
     },
     "execution_count": 4,
     "metadata": {},
     "output_type": "execute_result"
    }
   ],
   "source": [
    "def remove_newline(s):\n",
    "    return s.strip()\n",
    "\n",
    "def pad(s):\n",
    "    return s.ljust(120)\n",
    "\n",
    "# TODO canonicalize strings\n",
    "\n",
    "remove_newline(df_raw['smiles'].iloc[0])\n",
    "pad(remove_newline(df_raw['smiles'].iloc[0]))"
   ]
  },
  {
   "cell_type": "code",
   "execution_count": 5,
   "id": "opening-airport",
   "metadata": {},
   "outputs": [
    {
     "data": {
      "text/plain": [
       "'asldfkj   '"
      ]
     },
     "execution_count": 5,
     "metadata": {},
     "output_type": "execute_result"
    }
   ],
   "source": [
    "\"asldfkj\".ljust(10)"
   ]
  },
  {
   "cell_type": "markdown",
   "id": "english-hostel",
   "metadata": {},
   "source": [
    "Gaussian Process Prediction target:\n",
    "5× QED − SAS\n",
    "started with molecules from the ZINC dataset that were in the bottom 10% percentile of our objective."
   ]
  },
  {
   "cell_type": "markdown",
   "id": "undefined-security",
   "metadata": {},
   "source": [
    "# Using original code"
   ]
  },
  {
   "cell_type": "code",
   "execution_count": 6,
   "id": "dangerous-binding",
   "metadata": {},
   "outputs": [],
   "source": [
    "smiles, Y_reg = mu.load_smiles_and_data_df('data/250k_rndm_zinc_drugs_clean_3.csv', max_len=120, reg_tasks=['logP', 'qed', 'SAS'])# , normalize_out='data/reg_normalise.csv')"
   ]
  },
  {
   "cell_type": "code",
   "execution_count": 7,
   "id": "familiar-therapy",
   "metadata": {},
   "outputs": [],
   "source": [
    "# mu.smiles_to_hot_filter(smiles)\n",
    "MAX_LEN = 120\n",
    "CHARS = mu.smiles2one_hot_chars(smiles, MAX_LEN)"
   ]
  },
  {
   "cell_type": "code",
   "execution_count": 8,
   "id": "congressional-trauma",
   "metadata": {},
   "outputs": [],
   "source": [
    "NCHARS = len(CHARS)\n",
    "CHAR_INDICES = dict((c, i) for i, c in enumerate(CHARS))"
   ]
  },
  {
   "cell_type": "code",
   "execution_count": 9,
   "id": "alternative-vertex",
   "metadata": {},
   "outputs": [],
   "source": [
    "# TODO: Canonicalise\n",
    "X = mu.smiles_to_hot(smiles, max_len=MAX_LEN, padding='right', char_indices=CHAR_INDICES, nchars=NCHARS)"
   ]
  },
  {
   "cell_type": "code",
   "execution_count": 17,
   "id": "considered-longitude",
   "metadata": {},
   "outputs": [],
   "source": [
    "X_bool = X.astype(np.bool)"
   ]
  },
  {
   "cell_type": "code",
   "execution_count": 19,
   "id": "agreed-childhood",
   "metadata": {},
   "outputs": [
    {
     "data": {
      "text/plain": [
       "1047711000"
      ]
     },
     "execution_count": 19,
     "metadata": {},
     "output_type": "execute_result"
    }
   ],
   "source": [
    "X_bool.size"
   ]
  },
  {
   "cell_type": "code",
   "execution_count": 12,
   "id": "supposed-ending",
   "metadata": {},
   "outputs": [
    {
     "data": {
      "text/plain": [
       "4190844000"
      ]
     },
     "execution_count": 12,
     "metadata": {},
     "output_type": "execute_result"
    }
   ],
   "source": [
    "X.size * X.itemsize"
   ]
  },
  {
   "cell_type": "code",
   "execution_count": 59,
   "id": "olympic-psychology",
   "metadata": {},
   "outputs": [
    {
     "name": "stdout",
     "output_type": "stream",
     "text": [
      "data size:  249455\n"
     ]
    }
   ],
   "source": [
    "print(\"data size: \", X.shape[0])"
   ]
  },
  {
   "cell_type": "code",
   "execution_count": 20,
   "id": "certified-affairs",
   "metadata": {},
   "outputs": [],
   "source": [
    "np.savez_compressed('data/train_compressed_bool', X_bool)"
   ]
  },
  {
   "cell_type": "code",
   "execution_count": 61,
   "id": "involved-climb",
   "metadata": {},
   "outputs": [],
   "source": [
    "assert Y_reg.shape[0] == X.shape[0]"
   ]
  },
  {
   "cell_type": "code",
   "execution_count": 64,
   "id": "macro-complexity",
   "metadata": {},
   "outputs": [],
   "source": [
    "np.save('data/Y_reg', Y_reg)"
   ]
  },
  {
   "cell_type": "markdown",
   "id": "administrative-protest",
   "metadata": {},
   "source": [
    "# TMP"
   ]
  },
  {
   "cell_type": "code",
   "execution_count": 33,
   "id": "contained-morocco",
   "metadata": {},
   "outputs": [
    {
     "name": "stdout",
     "output_type": "stream",
     "text": [
      "{'2': 0, 'C': 1, '(': 2, '1': 3, 'N': 4, ')': 5, 'S': 6, '=': 7, 'c': 8, 'O': 9, ' ': 10}\n",
      "(1, 120, 11)\n",
      "[[[0. 1. 0. ... 0. 0. 0.]\n",
      "  [0. 0. 0. ... 0. 1. 0.]\n",
      "  [0. 0. 0. ... 1. 0. 0.]\n",
      "  ...\n",
      "  [0. 0. 0. ... 0. 0. 1.]\n",
      "  [0. 0. 0. ... 0. 0. 1.]\n",
      "  [0. 0. 0. ... 0. 0. 1.]]]\n"
     ]
    }
   ],
   "source": [
    "tmp = 'COc1ccc(cc1)S(=O)(=O)NCc2ccccc2OC'\n",
    "\n",
    "def pad_smile(string, max_len, padding='right'):\n",
    "    if len(string) <= max_len:\n",
    "        if padding == 'right':\n",
    "            return string + \" \" * (max_len - len(string))\n",
    "        elif padding == 'left':\n",
    "            return \" \" * (max_len - len(string)) + string\n",
    "        elif padding == 'none':\n",
    "            return string\n",
    "\n",
    "def smiles_to_hot(smiles, max_len, padding, char_indices, nchars):\n",
    "    smiles = [pad_smile(i, max_len, padding)\n",
    "              for i in smiles if pad_smile(i, max_len, padding)]\n",
    "\n",
    "    X = np.zeros((len(smiles), max_len, nchars), dtype=np.float32)\n",
    "    print(X.shape)\n",
    "\n",
    "    for i, smile in enumerate(smiles):\n",
    "        for t, char in enumerate(smile):\n",
    "            try:\n",
    "                X[i, t, char_indices[char]] = 1\n",
    "            except KeyError as e:\n",
    "                print(\"ERROR: Check chars file. Bad SMILES:\", smile)\n",
    "                raise e\n",
    "    return X\n",
    "\n",
    "def smiles2one_hot_chars(smi_list, max_len):\n",
    "    # get all the characters\n",
    "    char_lists = [list(smi) for smi in smi_list]\n",
    "    chars = list(set([char for sub_list in char_lists for char in sub_list]))\n",
    "    chars.append(' ')\n",
    "\n",
    "    return chars\n",
    "\n",
    "char_indices = dict(zip(smiles2one_hot_chars([tmp], 120), range(0, len(tmp))))\n",
    "print(char_indices)\n",
    "example_input = smiles_to_hot([tmp], 120, 'right', char_indices, len(char_indices))\n",
    "print(example_input)"
   ]
  },
  {
   "cell_type": "code",
   "execution_count": null,
   "id": "contemporary-colors",
   "metadata": {},
   "outputs": [],
   "source": []
  }
 ],
 "metadata": {
  "kernelspec": {
   "display_name": "Python 3",
   "language": "python",
   "name": "python3"
  },
  "language_info": {
   "codemirror_mode": {
    "name": "ipython",
    "version": 3
   },
   "file_extension": ".py",
   "mimetype": "text/x-python",
   "name": "python",
   "nbconvert_exporter": "python",
   "pygments_lexer": "ipython3",
   "version": "3.8.5"
  }
 },
 "nbformat": 4,
 "nbformat_minor": 5
}
