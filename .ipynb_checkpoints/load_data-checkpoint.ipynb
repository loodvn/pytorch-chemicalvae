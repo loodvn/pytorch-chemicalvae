{
 "cells": [
  {
   "cell_type": "markdown",
   "id": "rising-andrew",
   "metadata": {},
   "source": [
    "Load Zinc-250k dataset in SMILES format"
   ]
  },
  {
   "cell_type": "markdown",
   "id": "parental-denver",
   "metadata": {},
   "source": [
    "TODO rather download in script?\n",
    "\n",
    "https://github.com/aspuru-guzik-group/chemical_vae \n",
    "\n",
    "From https://github.com/aspuru-guzik-group/chemical_vae/blob/master/models/zinc_properties/250k_rndm_zinc_drugs_clean_3.csv\n",
    "\n",
    "https://github.com/chainer/chainer-chemistry/blob/master/chainer_chemistry/datasets/zinc.py"
   ]
  },
  {
   "cell_type": "code",
   "execution_count": 25,
   "id": "ready-domestic",
   "metadata": {},
   "outputs": [],
   "source": [
    "import pandas as pd\n",
    "import numpy as np\n",
    "import data.mol_utils as mu"
   ]
  },
  {
   "cell_type": "code",
   "execution_count": 42,
   "id": "conditional-appliance",
   "metadata": {},
   "outputs": [
    {
     "data": {
      "text/html": [
       "<div>\n",
       "<style scoped>\n",
       "    .dataframe tbody tr th:only-of-type {\n",
       "        vertical-align: middle;\n",
       "    }\n",
       "\n",
       "    .dataframe tbody tr th {\n",
       "        vertical-align: top;\n",
       "    }\n",
       "\n",
       "    .dataframe thead th {\n",
       "        text-align: right;\n",
       "    }\n",
       "</style>\n",
       "<table border=\"1\" class=\"dataframe\">\n",
       "  <thead>\n",
       "    <tr style=\"text-align: right;\">\n",
       "      <th></th>\n",
       "      <th>smiles</th>\n",
       "      <th>logP</th>\n",
       "      <th>qed</th>\n",
       "      <th>SAS</th>\n",
       "    </tr>\n",
       "  </thead>\n",
       "  <tbody>\n",
       "    <tr>\n",
       "      <th>0</th>\n",
       "      <td>CC(C)(C)c1ccc2occ(CC(=O)Nc3ccccc3F)c2c1\\n</td>\n",
       "      <td>5.05060</td>\n",
       "      <td>0.702012</td>\n",
       "      <td>2.084095</td>\n",
       "    </tr>\n",
       "    <tr>\n",
       "      <th>1</th>\n",
       "      <td>C[C@@H]1CC(Nc2cncc(-c3nncn3C)c2)C[C@@H](C)C1\\n</td>\n",
       "      <td>3.11370</td>\n",
       "      <td>0.928975</td>\n",
       "      <td>3.432004</td>\n",
       "    </tr>\n",
       "    <tr>\n",
       "      <th>2</th>\n",
       "      <td>N#Cc1ccc(-c2ccc(O[C@@H](C(=O)N3CCCC3)c3ccccc3)...</td>\n",
       "      <td>4.96778</td>\n",
       "      <td>0.599682</td>\n",
       "      <td>2.470633</td>\n",
       "    </tr>\n",
       "    <tr>\n",
       "      <th>3</th>\n",
       "      <td>CCOC(=O)[C@@H]1CCCN(C(=O)c2nc(-c3ccc(C)cc3)n3c...</td>\n",
       "      <td>4.00022</td>\n",
       "      <td>0.690944</td>\n",
       "      <td>2.822753</td>\n",
       "    </tr>\n",
       "    <tr>\n",
       "      <th>4</th>\n",
       "      <td>N#CC1=C(SCC(=O)Nc2cccc(Cl)c2)N=C([O-])[C@H](C#...</td>\n",
       "      <td>3.60956</td>\n",
       "      <td>0.789027</td>\n",
       "      <td>4.035182</td>\n",
       "    </tr>\n",
       "  </tbody>\n",
       "</table>\n",
       "</div>"
      ],
      "text/plain": [
       "                                              smiles     logP       qed  \\\n",
       "0          CC(C)(C)c1ccc2occ(CC(=O)Nc3ccccc3F)c2c1\\n  5.05060  0.702012   \n",
       "1     C[C@@H]1CC(Nc2cncc(-c3nncn3C)c2)C[C@@H](C)C1\\n  3.11370  0.928975   \n",
       "2  N#Cc1ccc(-c2ccc(O[C@@H](C(=O)N3CCCC3)c3ccccc3)...  4.96778  0.599682   \n",
       "3  CCOC(=O)[C@@H]1CCCN(C(=O)c2nc(-c3ccc(C)cc3)n3c...  4.00022  0.690944   \n",
       "4  N#CC1=C(SCC(=O)Nc2cccc(Cl)c2)N=C([O-])[C@H](C#...  3.60956  0.789027   \n",
       "\n",
       "        SAS  \n",
       "0  2.084095  \n",
       "1  3.432004  \n",
       "2  2.470633  \n",
       "3  2.822753  \n",
       "4  4.035182  "
      ]
     },
     "execution_count": 42,
     "metadata": {},
     "output_type": "execute_result"
    }
   ],
   "source": [
    "df_raw = pd.read_csv(\"data/250k_rndm_zinc_drugs_clean_3.csv\")\n",
    "df_raw.head()"
   ]
  },
  {
   "cell_type": "markdown",
   "id": "narrative-luther",
   "metadata": {},
   "source": [
    "Preprocessing\n",
    "\n",
    "- subset of 35 different characters for ZINC  TODO Which ones?\n",
    "- Shorter strings were padded with spaces, total length 120\n",
    "- canonicalized SMILES for training\n",
    "\n",
    "Model input:\n",
    "- one-hot encoding (e.g. tutorial https://pytorch.org/tutorials/intermediate/char_rnn_classification_tutorial.html#turning-names-into-tensors)"
   ]
  },
  {
   "cell_type": "code",
   "execution_count": 14,
   "id": "fifty-update",
   "metadata": {},
   "outputs": [
    {
     "data": {
      "text/plain": [
       "'CC(C)(C)c1ccc2occ(CC(=O)Nc3ccccc3F)c2c1                                                                                 '"
      ]
     },
     "execution_count": 14,
     "metadata": {},
     "output_type": "execute_result"
    }
   ],
   "source": [
    "def remove_newline(s):\n",
    "    return s.strip()\n",
    "\n",
    "def pad(s):\n",
    "    return s.ljust(120)\n",
    "\n",
    "# TODO canonicalize strings\n",
    "\n",
    "remove_newline(df_raw['smiles'].iloc[0])\n",
    "pad(remove_newline(df_raw['smiles'].iloc[0]))"
   ]
  },
  {
   "cell_type": "code",
   "execution_count": 13,
   "id": "fundamental-morrison",
   "metadata": {},
   "outputs": [
    {
     "data": {
      "text/plain": [
       "'asldfkj   '"
      ]
     },
     "execution_count": 13,
     "metadata": {},
     "output_type": "execute_result"
    }
   ],
   "source": [
    "\"asldfkj\".ljust(10)"
   ]
  },
  {
   "cell_type": "markdown",
   "id": "historic-closure",
   "metadata": {},
   "source": [
    "Gaussian Process Prediction target:\n",
    "5× QED − SAS\n",
    "started with molecules from the ZINC dataset that were in the bottom 10% percentile of our objective."
   ]
  },
  {
   "cell_type": "markdown",
   "id": "ready-bride",
   "metadata": {},
   "source": [
    "# Using original code"
   ]
  },
  {
   "cell_type": "code",
   "execution_count": 54,
   "id": "loose-freight",
   "metadata": {},
   "outputs": [],
   "source": [
    "smiles, Y_reg = mu.load_smiles_and_data_df('data/250k_rndm_zinc_drugs_clean_3.csv', max_len=120, reg_tasks=['logP', 'qed', 'SAS'], normalize_out='data/reg_normalise.csv')"
   ]
  },
  {
   "cell_type": "code",
   "execution_count": 55,
   "id": "reverse-wholesale",
   "metadata": {},
   "outputs": [
    {
     "data": {
      "text/plain": [
       "array([ 9.22893341,  0.85078079,  9.67343702, ...,  0.47234495,\n",
       "       -0.54752942,  6.7230176 ])"
      ]
     },
     "execution_count": 55,
     "metadata": {},
     "output_type": "execute_result"
    }
   ],
   "source": [
    "Y_target = 5*Y_reg[:,0] - Y_reg[:,1]\n",
    "Y_target"
   ]
  },
  {
   "cell_type": "code",
   "execution_count": 11,
   "id": "decimal-reduction",
   "metadata": {},
   "outputs": [],
   "source": [
    "# mu.smiles_to_hot_filter(smiles)\n",
    "MAX_LEN = 120\n",
    "CHARS = mu.smiles2one_hot_chars(smiles, MAX_LEN)"
   ]
  },
  {
   "cell_type": "code",
   "execution_count": 12,
   "id": "played-abraham",
   "metadata": {},
   "outputs": [],
   "source": [
    "NCHARS = len(CHARS)\n",
    "CHAR_INDICES = dict((c, i) for i, c in enumerate(CHARS))"
   ]
  },
  {
   "cell_type": "code",
   "execution_count": 22,
   "id": "decreased-triangle",
   "metadata": {},
   "outputs": [
    {
     "ename": "TypeError",
     "evalue": "'tuple' object is not callable",
     "output_type": "error",
     "traceback": [
      "\u001b[0;31m---------------------------------------------------------------------------\u001b[0m",
      "\u001b[0;31mTypeError\u001b[0m                                 Traceback (most recent call last)",
      "\u001b[0;32m<ipython-input-22-753e34289f9a>\u001b[0m in \u001b[0;36m<module>\u001b[0;34m\u001b[0m\n\u001b[1;32m      1\u001b[0m \u001b[0mX\u001b[0m \u001b[0;34m=\u001b[0m \u001b[0mmu\u001b[0m\u001b[0;34m.\u001b[0m\u001b[0msmiles_to_hot\u001b[0m\u001b[0;34m(\u001b[0m\u001b[0msmiles\u001b[0m\u001b[0;34m,\u001b[0m \u001b[0mmax_len\u001b[0m\u001b[0;34m=\u001b[0m\u001b[0mMAX_LEN\u001b[0m\u001b[0;34m,\u001b[0m \u001b[0mpadding\u001b[0m\u001b[0;34m=\u001b[0m\u001b[0;34m'right'\u001b[0m\u001b[0;34m,\u001b[0m \u001b[0mchar_indices\u001b[0m\u001b[0;34m=\u001b[0m\u001b[0mCHAR_INDICES\u001b[0m\u001b[0;34m,\u001b[0m \u001b[0mnchars\u001b[0m\u001b[0;34m=\u001b[0m\u001b[0mNCHARS\u001b[0m\u001b[0;34m)\u001b[0m\u001b[0;34m\u001b[0m\u001b[0;34m\u001b[0m\u001b[0m\n\u001b[0;32m----> 2\u001b[0;31m \u001b[0mprint\u001b[0m\u001b[0;34m(\u001b[0m\u001b[0;34m\"data size: \"\u001b[0m\u001b[0;34m,\u001b[0m \u001b[0mX\u001b[0m\u001b[0;34m.\u001b[0m\u001b[0mshape\u001b[0m\u001b[0;34m(\u001b[0m\u001b[0;36m0\u001b[0m\u001b[0;34m)\u001b[0m\u001b[0;34m)\u001b[0m\u001b[0;34m\u001b[0m\u001b[0;34m\u001b[0m\u001b[0m\n\u001b[0m",
      "\u001b[0;31mTypeError\u001b[0m: 'tuple' object is not callable"
     ]
    }
   ],
   "source": [
    "# TODO: Canonicalise\n",
    "X = mu.smiles_to_hot(smiles, max_len=MAX_LEN, padding='right', char_indices=CHAR_INDICES, nchars=NCHARS)"
   ]
  },
  {
   "cell_type": "code",
   "execution_count": 23,
   "id": "sustained-decline",
   "metadata": {},
   "outputs": [
    {
     "name": "stdout",
     "output_type": "stream",
     "text": [
      "data size:  249455\n"
     ]
    }
   ],
   "source": [
    "print(\"data size: \", X.shape[0])"
   ]
  },
  {
   "cell_type": "code",
   "execution_count": 26,
   "id": "experienced-ozone",
   "metadata": {},
   "outputs": [],
   "source": [
    "np.save('data/train', X)"
   ]
  },
  {
   "cell_type": "code",
   "execution_count": 39,
   "id": "nuclear-retrieval",
   "metadata": {},
   "outputs": [],
   "source": [
    "assert Y_target.shape[0] == X.shape[0]"
   ]
  },
  {
   "cell_type": "code",
   "execution_count": 40,
   "id": "earlier-value",
   "metadata": {},
   "outputs": [],
   "source": [
    "np.save('data/Y_target', Y_target)"
   ]
  },
  {
   "cell_type": "markdown",
   "id": "charitable-supplement",
   "metadata": {},
   "source": [
    "# TMP"
   ]
  },
  {
   "cell_type": "code",
   "execution_count": 33,
   "id": "innovative-certification",
   "metadata": {},
   "outputs": [
    {
     "name": "stdout",
     "output_type": "stream",
     "text": [
      "{'2': 0, 'C': 1, '(': 2, '1': 3, 'N': 4, ')': 5, 'S': 6, '=': 7, 'c': 8, 'O': 9, ' ': 10}\n",
      "(1, 120, 11)\n",
      "[[[0. 1. 0. ... 0. 0. 0.]\n",
      "  [0. 0. 0. ... 0. 1. 0.]\n",
      "  [0. 0. 0. ... 1. 0. 0.]\n",
      "  ...\n",
      "  [0. 0. 0. ... 0. 0. 1.]\n",
      "  [0. 0. 0. ... 0. 0. 1.]\n",
      "  [0. 0. 0. ... 0. 0. 1.]]]\n"
     ]
    }
   ],
   "source": [
    "tmp = 'COc1ccc(cc1)S(=O)(=O)NCc2ccccc2OC'\n",
    "\n",
    "def pad_smile(string, max_len, padding='right'):\n",
    "    if len(string) <= max_len:\n",
    "        if padding == 'right':\n",
    "            return string + \" \" * (max_len - len(string))\n",
    "        elif padding == 'left':\n",
    "            return \" \" * (max_len - len(string)) + string\n",
    "        elif padding == 'none':\n",
    "            return string\n",
    "\n",
    "def smiles_to_hot(smiles, max_len, padding, char_indices, nchars):\n",
    "    smiles = [pad_smile(i, max_len, padding)\n",
    "              for i in smiles if pad_smile(i, max_len, padding)]\n",
    "\n",
    "    X = np.zeros((len(smiles), max_len, nchars), dtype=np.float32)\n",
    "    print(X.shape)\n",
    "\n",
    "    for i, smile in enumerate(smiles):\n",
    "        for t, char in enumerate(smile):\n",
    "            try:\n",
    "                X[i, t, char_indices[char]] = 1\n",
    "            except KeyError as e:\n",
    "                print(\"ERROR: Check chars file. Bad SMILES:\", smile)\n",
    "                raise e\n",
    "    return X\n",
    "\n",
    "def smiles2one_hot_chars(smi_list, max_len):\n",
    "    # get all the characters\n",
    "    char_lists = [list(smi) for smi in smi_list]\n",
    "    chars = list(set([char for sub_list in char_lists for char in sub_list]))\n",
    "    chars.append(' ')\n",
    "\n",
    "    return chars\n",
    "\n",
    "char_indices = dict(zip(smiles2one_hot_chars([tmp], 120), range(0, len(tmp))))\n",
    "print(char_indices)\n",
    "example_input = smiles_to_hot([tmp], 120, 'right', char_indices, len(char_indices))\n",
    "print(example_input)"
   ]
  },
  {
   "cell_type": "code",
   "execution_count": null,
   "id": "lesbian-competition",
   "metadata": {},
   "outputs": [],
   "source": []
  }
 ],
 "metadata": {
  "kernelspec": {
   "display_name": "Python 3",
   "language": "python",
   "name": "python3"
  },
  "language_info": {
   "codemirror_mode": {
    "name": "ipython",
    "version": 3
   },
   "file_extension": ".py",
   "mimetype": "text/x-python",
   "name": "python",
   "nbconvert_exporter": "python",
   "pygments_lexer": "ipython3",
   "version": "3.8.5"
  }
 },
 "nbformat": 4,
 "nbformat_minor": 5
}
