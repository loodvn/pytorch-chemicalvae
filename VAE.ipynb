{
 "cells": [
  {
   "cell_type": "code",
   "execution_count": null,
   "id": "broadband-organ",
   "metadata": {},
   "outputs": [],
   "source": [
    "encoder rnn\n",
    "decoder rnn"
   ]
  },
  {
   "cell_type": "code",
   "execution_count": 2,
   "id": "august-laundry",
   "metadata": {},
   "outputs": [
    {
     "data": {
      "text/plain": [
       "<torch._C.Generator at 0x7f987e120a90>"
      ]
     },
     "execution_count": 2,
     "metadata": {},
     "output_type": "execute_result"
    }
   ],
   "source": [
    "import numpy as np\n",
    "import torch\n",
    "from torch import nn, optim\n",
    "from torch.nn import functional as F\n",
    "import pandas as pd\n",
    "\n",
    "torch.manual_seed(42)"
   ]
  },
  {
   "cell_type": "code",
   "execution_count": 9,
   "id": "accompanied-speaking",
   "metadata": {},
   "outputs": [],
   "source": [
    "X = np.load('data/train_compressed.npz')['arr_0']\n",
    "Y = np.load('data/Y_reg.npy')\n",
    "# X = np.load('data/X_100.npy')\n",
    "# Y = np.load('data/Y_reg100.npy')"
   ]
  },
  {
   "cell_type": "code",
   "execution_count": 187,
   "id": "therapeutic-fairy",
   "metadata": {},
   "outputs": [],
   "source": [
    "# Put in load_data\n",
    "from torch.utils.data import DataLoader, TensorDataset, DataLoader\n",
    "\n",
    "TMP_TRAIN_SIZE = 1000\n",
    "BATCH_SIZE = 64\n",
    "\n",
    "x_train, y_train = map(torch.tensor, (X[:TMP_TRAIN_SIZE], Y[:TMP_TRAIN_SIZE]))\n",
    "\n",
    "train_ds = TensorDataset(x_train, y_train)\n",
    "train_loader = DataLoader(train_ds, batch_size=BATCH_SIZE, shuffle=True)"
   ]
  },
  {
   "cell_type": "code",
   "execution_count": 188,
   "id": "least-proceeding",
   "metadata": {},
   "outputs": [],
   "source": [
    "class ChemVAE(torch.nn.Module):\n",
    "    def __init__(self):\n",
    "        super(ChemVAE, self).__init__()\n",
    "        \n",
    "        self.latent_dims = 196  # p7, VAEs\n",
    "        self.num_char = 35 # including +1 for padding\n",
    "        \n",
    "        # From Methods/Autoencoder architecture section (p13)\n",
    "        self.enc_cnn1 = nn.Conv1d(in_channels=120, out_channels=9, kernel_size=9)  # 9,9\n",
    "        self.enc_cnn2 = nn.Conv1d(in_channels=9, out_channels=9, kernel_size=9)  # 9,9\n",
    "        self.enc_cnn3 = nn.Conv1d(in_channels=9, out_channels=11, kernel_size=10)  # 10, 11 (filter size, convolutional kernels)\n",
    "        \n",
    "        \n",
    "\n",
    "        self.enc_fc_mu = nn.Linear(11*10, self.latent_dims)  # 11  (out_channels * whatever's left?)\n",
    "        self.enc_fc_var = nn.Linear(11*10, self.latent_dims)  # 11\n",
    "        \n",
    "        \n",
    "        self.dec_gru = nn.GRU(input_size=self.latent_dims, hidden_size=488, num_layers=3, batch_first=True)  # TODO input_size is latent space?\n",
    "#         self.dec_gru_last = nn.GRU(input_size = self.latent_dims, hidden_size=488, )  # output GRU layer had one additional input, corresponding to the character sampled from the softmax output\n",
    "        self.dec_fc  = nn.Linear(488, self.num_char)\n",
    "        \n",
    "        self.property_1 = nn.Linear(self.latent_dims, 1000)\n",
    "        self.property_2 = nn.Linear(1000, 3)\n",
    "        self.property_dropout = nn.Dropout(p=0.2)\n",
    "        \n",
    "        # TODO activation functions? Assuming tanh not relu? Also, difference between F.relu and nn.ReLU?\n",
    "        self.act = F.relu\n",
    "        \n",
    "        \n",
    "    def encode(self, x):\n",
    "#         print(\"initial size:\", x.shape)\n",
    "        x = self.act(self.enc_cnn1(x))\n",
    "#         print(\"initial size:\", x.shape)\n",
    "        x = self.act(self.enc_cnn2(x))\n",
    "        x = self.act(self.enc_cnn3(x))\n",
    "#         print(\"size after enc_cnns:\", x.shape)\n",
    "\n",
    "        x = x.view(x.size(0), -1) # Flatten, Keep batch size\n",
    "        mu = self.enc_fc_mu(x)\n",
    "        var = self.enc_fc_var(x)\n",
    "\n",
    "        return mu, var\n",
    "\n",
    "    def decode(self, z):\n",
    "#         print(\"size before reshape\", z.size)\n",
    "        z = z.view(z.size(0), 1, z.size(-1))  # Expand_dims (1, latent_dim) -> (1, 1, latent_dim)\n",
    "#         print(\"size mid-reshape\", z.size)\n",
    "        z = z.repeat(1, 120, 1)               # Repeat latent*120: (1, 1, latent_dim) -> (1, 120, latent_dim)\n",
    "#         print(\"size after reshape\", z.size)\n",
    "        output, hn = self.dec_gru(z)\n",
    "        softmax = self.dec_fc(output)\n",
    "        softmax = F.softmax(softmax, dim=1)\n",
    "#         print(\"softmax shape:\", softmax.size())\n",
    "        return softmax\n",
    "        \n",
    "    \n",
    "    \n",
    "    # Copied from PyTorch VAE example\n",
    "    def reparameterize(self, mu, logvar):\n",
    "        std = torch.exp(0.5*logvar)\n",
    "        eps = torch.randn_like(std)\n",
    "        return mu + eps*std\n",
    "    \n",
    "    def prediction(self, z):\n",
    "        # two fully connected layers of 1000 neurons, dropout rate of 0.2\n",
    "        fc1 = self.act(self.property_dropout(self.property_1(z)))\n",
    "#         print(\"prop1 shape: \", fc1.shape)\n",
    "        pred = self.act(self.property_dropout(self.property_2(fc1)))\n",
    "#         print(\"prop 2 shape\", pred.shape)\n",
    "        \n",
    "        # output: batch size * 3\n",
    "        return pred #.view(pred.size(0))\n",
    "    \n",
    "    def forward(self, x):\n",
    "        mu, logvar = self.encode(x)\n",
    "        z = self.reparameterize(mu, logvar)\n",
    "        return self.decode(z), mu, logvar, z"
   ]
  },
  {
   "cell_type": "markdown",
   "id": "challenging-delta",
   "metadata": {},
   "source": [
    "Training\n",
    "- variational loss (KL divergence) annealed according to sigmoid schedule after 29 epochs, running for a total 120 epochs.\n",
    "- output GRU layer had one additional input, corresponding to the character sampled from the softmax output, trained using teacher forcing\n",
    "\n",
    "Getting output samples from softmax (depending on temperature):\n",
    "https://pytorch.org/tutorials/intermediate/char_rnn_classification_tutorial.html#preparing-for-training\n",
    "\n",
    "Pytorch training loop over batches:\n",
    "loss.backward()\n",
    "opt.step()\n",
    "opt.zero_grad()\n",
    "\n",
    "Which reconstruction loss?\n",
    "CE loss?"
   ]
  },
  {
   "cell_type": "code",
   "execution_count": 189,
   "id": "hispanic-colombia",
   "metadata": {},
   "outputs": [],
   "source": [
    "def one_hot_array(i, n):\n",
    "    return map(int, [ix == i for ix in xrange(n)])\n",
    "\n",
    "def one_hot_index(vec, charset):\n",
    "    return map(charset.index, vec)\n",
    "\n",
    "def from_one_hot_array(vec):\n",
    "    oh = np.where(vec == 1)\n",
    "    if oh[0].shape == (0, ):\n",
    "        return None\n",
    "    return int(oh[0][0])\n",
    "\n",
    "def decode_smiles_from_indexes(vec, charset):\n",
    "    return \"\".join(map(lambda x: charset[x], vec)).strip()\n",
    "\n",
    "charset = ['n',\n",
    " '[',\n",
    " 'o',\n",
    " 'I',\n",
    " '3',\n",
    " 'H',\n",
    " '+',\n",
    " 'S',\n",
    " '@',\n",
    " '8',\n",
    " '4',\n",
    " '1',\n",
    " 's',\n",
    " 'N',\n",
    " 'F',\n",
    " 'P',\n",
    " '/',\n",
    " '=',\n",
    " 'O',\n",
    " 'B',\n",
    " 'C',\n",
    " '\\\\',\n",
    " '(',\n",
    " '-',\n",
    " ']',\n",
    " '6',\n",
    " ')',\n",
    " 'r',\n",
    " '5',\n",
    " '7',\n",
    " '2',\n",
    " '#',\n",
    " 'l',\n",
    " 'c',\n",
    " ' ']"
   ]
  },
  {
   "cell_type": "code",
   "execution_count": 190,
   "id": "acoustic-surgery",
   "metadata": {},
   "outputs": [
    {
     "data": {
      "text/plain": [
       "0.9996646498695336"
      ]
     },
     "execution_count": 190,
     "metadata": {},
     "output_type": "execute_result"
    }
   ],
   "source": [
    "def sigmoid_schedule(time_step, slope=1., start=22):\n",
    "    return float(1 / (1. + np.exp(slope * (start - float(time_step)))))\n",
    "sigmoid_schedule(30)"
   ]
  },
  {
   "cell_type": "markdown",
   "id": "express-stage",
   "metadata": {},
   "source": [
    "# Baseline: Mean prediction\n"
   ]
  },
  {
   "cell_type": "code",
   "execution_count": 191,
   "id": "actual-framework",
   "metadata": {},
   "outputs": [
    {
     "name": "stdout",
     "output_type": "stream",
     "text": [
      "logP baseline:  1.1381030935900205\n",
      "QED baseline:  0.1121743723222245\n"
     ]
    }
   ],
   "source": [
    "# \n",
    "logP = np.mean(np.abs(Y[:,0].mean()-Y[:,0]))\n",
    "print(\"logP baseline: \", logP)\n",
    "QED = np.mean(np.abs(Y[:,1].mean()-Y[:,1]))\n",
    "print(\"QED baseline: \", QED)"
   ]
  },
  {
   "cell_type": "code",
   "execution_count": 192,
   "id": "vanilla-detail",
   "metadata": {},
   "outputs": [
    {
     "data": {
      "text/plain": [
       "array([1.13810309, 0.11217437, 0.66557906])"
      ]
     },
     "execution_count": 192,
     "metadata": {},
     "output_type": "execute_result"
    }
   ],
   "source": [
    "(np.abs(Y.mean(axis=0)-Y)).mean(axis=0)  # logP, QED, SAS"
   ]
  },
  {
   "cell_type": "markdown",
   "id": "convenient-virus",
   "metadata": {},
   "source": [
    "## Train"
   ]
  },
  {
   "cell_type": "code",
   "execution_count": 193,
   "id": "spectacular-boston",
   "metadata": {},
   "outputs": [
    {
     "name": "stdout",
     "output_type": "stream",
     "text": [
      "Input:\n",
      "C[C@@H]1CCO[C@@H]1C(=O)N1CC[C@H](C(N)=O)c2ccccc21\n",
      "Label:\n",
      "C[C@@H]1CCO[C@@H]1C(=O)N1CC[C@H](C(N)=O)c2ccccc21\n",
      "Output:\n",
      "llSSSSSSSSSFFFFFFFFFFccccccccccccccccccccccccccccccccccccccccccccccccccccccccccccccccccccccccccccccccccccccccccccccccccc\n",
      "1 / 0\t38952.7891\n",
      "1 / 0\tPred loss: 2.0713\n",
      "Input:\n",
      "O=C(NCc1ccc([N+]2=CCCC2)cc1)NC1(c2ccc(Cl)cc2)CC1\n",
      "Label:\n",
      "O=C(NCc1ccc([N+]2=CCCC2)cc1)NC1(c2ccc(Cl)cc2)CC1\n",
      "Output:\n",
      "C[@@(((((((ccc))))))))))))))))3333388888888888555555555\n",
      "2 / 0\t36592.6992\n",
      "2 / 0\tPred loss: 2.0678\n",
      "Input:\n",
      "CCc1nnc(-c2cc3ccccc3n2CC(=O)NC(C)(C)C)o1\n",
      "Label:\n",
      "CCc1nnc(-c2cc3ccccc3n2CC(=O)NC(C)(C)C)o1\n",
      "Output:\n",
      "CCC####//////N(((((]]]22))))))))))))))333344444666666666666\n",
      "3 / 0\t35045.2813\n",
      "3 / 0\tPred loss: 2.0292\n",
      "Input:\n",
      "CCCOc1ccc(Br)cc1C[NH+]1CCC([C@@H](C)O)CC1\n",
      "Label:\n",
      "CCCOc1ccc(Br)cc1C[NH+]1CCC([C@@H](C)O)CC1\n",
      "Output:\n",
      "C###////////////NN]]]]]]))33333333333333333333355555555555\n",
      "4 / 0\t34815.9922\n",
      "4 / 0\tPred loss: 1.7854\n",
      "Input:\n",
      "O=C(C1CCC1)N1CCC[C@H]1c1nc2cc(-c3ccccc3)ccc2o1\n",
      "Label:\n",
      "O=C(C1CCC1)N1CCC[C@H]1c1nc2cc(-c3ccccc3)ccc2o1\n",
      "Output:\n",
      "CC##////////////++-33333344444445555555\n",
      "5 / 0\t34439.9297\n",
      "5 / 0\tPred loss: 0.9569\n"
     ]
    }
   ],
   "source": [
    "# From other pytorch implementation\n",
    "def vae_loss(x_decoded_mean, x, z_mean, z_logvar):\n",
    "    xent_loss = F.binary_cross_entropy(x_decoded_mean, x, size_average=False)\n",
    "    kl_loss = -0.5 * torch.sum(1 + z_logvar - z_mean.pow(2) - z_logvar.exp())\n",
    "    return xent_loss + kl_loss\n",
    "\n",
    "def xent_loss(x_decoded_mean, x):\n",
    "    return F.binary_cross_entropy(x_decoded_mean, x, size_average=False)\n",
    "\n",
    "def kl_loss(z_mean, z_logvar):\n",
    "    return -0.5 * torch.sum(1 + z_logvar - z_mean.pow(2) - z_logvar.exp())\n",
    "\n",
    "# prediction loss: mse\n",
    "def pred_loss(y_pred, y_true):\n",
    "    return torch.mean((y_pred - y_true).pow(2))\n",
    "\n",
    "def mae(y_pred, y_true):\n",
    "    return torch.mean(torch.abs(y_pred - y_true))\n",
    "\n",
    "device = 'cuda' if torch.cuda.is_available() else 'cpu'\n",
    "epochs = 5\n",
    "iters = 100\n",
    "\n",
    "model = ChemVAE().to(device)\n",
    "optimizer = optim.Adam(model.parameters())\n",
    "\n",
    "# From other pytorch implementation TODO\n",
    "def train(epoch):\n",
    "    model.train()\n",
    "    train_loss = 0\n",
    "    for batch_idx, data in enumerate(train_loader):\n",
    "        y_true = data[1]\n",
    "        data = data[0].to(device)\n",
    "        optimizer.zero_grad()\n",
    "        output, mean, logvar, z = model(data)\n",
    "        pred = model.prediction(z)\n",
    "#         print(\"pred:\", pred.shape, \"y: \", y_true.shape)\n",
    "        \n",
    "        if batch_idx==0:\n",
    "              inp = data.cpu().numpy()\n",
    "              outp = output.cpu().detach().numpy()\n",
    "              lab = data.cpu().numpy()\n",
    "              print(\"Input:\")\n",
    "              print(decode_smiles_from_indexes(map(from_one_hot_array, inp[0]), charset))\n",
    "              print(\"Label:\")\n",
    "              print(decode_smiles_from_indexes(map(from_one_hot_array, lab[0]), charset))\n",
    "              sampled = outp[0].reshape(1, 120, len(charset)).argmax(axis=2)[0]\n",
    "              print(\"Output:\")\n",
    "              print(decode_smiles_from_indexes(sampled, charset))\n",
    "\n",
    "        \n",
    "#         print(\"pred loss: \", pred_loss(pred, y_true), \"shape: \", pred_loss(pred, y_true).shape)\n",
    "        loss = sigmoid_schedule(epoch)*kl_loss(mean, logvar) + xent_loss(output, data) + sigmoid_schedule(epoch)*pred_loss(pred, y_true)\n",
    "        loss.backward()\n",
    "        train_loss += loss\n",
    "        optimizer.step()\n",
    "        if batch_idx % 100 == 0:\n",
    "            print(f'{epoch} / {batch_idx}\\t{loss:.4f}')\n",
    "            pred_mae = mae(pred, y_true)\n",
    "            print(f'{epoch} / {batch_idx}\\tPred loss: {pred_mae:.4f}')\n",
    "#     print(f'epoch {epoch}: train loss:', (train_loss / len(train_loader.dataset)))\n",
    "    return train_loss / len(train_loader.dataset)\n",
    "\n",
    "for epoch in range(1, epochs + 1):\n",
    "    train_loss = train(epoch)"
   ]
  },
  {
   "cell_type": "markdown",
   "id": "loving-ghost",
   "metadata": {},
   "source": [
    "# Manually push data through network"
   ]
  },
  {
   "cell_type": "code",
   "execution_count": 49,
   "id": "guided-announcement",
   "metadata": {},
   "outputs": [
    {
     "name": "stdout",
     "output_type": "stream",
     "text": [
      "torch.Size([1, 120, 35])\n",
      "initial size: torch.Size([1, 120, 35])\n",
      "initial size: torch.Size([1, 9, 27])\n",
      "size after enc_cnns: torch.Size([1, 11, 10])\n",
      "torch.Size([1, 196]) torch.Size([1, 196])\n",
      "size before reshape <built-in method size of Tensor object at 0x7ffea87fcc80>\n",
      "size mid-reshape <built-in method size of Tensor object at 0x7ffe998a1840>\n",
      "size after reshape <built-in method size of Tensor object at 0x7ffe998b2040>\n",
      "softmax shape: torch.Size([1, 120, 35])\n",
      "decoded shape:  torch.Size([1, 120, 35])\n",
      "initial size: torch.Size([1, 120, 35])\n",
      "initial size: torch.Size([1, 9, 27])\n",
      "size after enc_cnns: torch.Size([1, 11, 10])\n",
      "size before reshape <built-in method size of Tensor object at 0x7ffea87fca80>\n",
      "size mid-reshape <built-in method size of Tensor object at 0x7ffe998a18c0>\n",
      "size after reshape <built-in method size of Tensor object at 0x7ffe998b2040>\n",
      "softmax shape: torch.Size([1, 120, 35])\n"
     ]
    },
    {
     "name": "stderr",
     "output_type": "stream",
     "text": [
      "/opt/anaconda3/envs/pytorch/lib/python3.8/site-packages/torch/nn/_reduction.py:44: UserWarning: size_average and reduce args will be deprecated, please use reduction='sum' instead.\n",
      "  warnings.warn(warning.format(ret))\n"
     ]
    },
    {
     "data": {
      "text/plain": [
       "tensor(608.8859, grad_fn=<AddBackward0>)"
      ]
     },
     "execution_count": 49,
     "metadata": {},
     "output_type": "execute_result"
    }
   ],
   "source": [
    "example_input = x_train[0]\n",
    "x = example_input\n",
    "x = x.view(1, x.size(0), -1)\n",
    "print(x.size())\n",
    "mu, logvar = model.encode(x)\n",
    "print(mu.shape, logvar.shape)\n",
    "\n",
    "z = model.reparameterize(mu, logvar)\n",
    "z.shape\n",
    "output = model.decode(z)\n",
    "print(\"decoded shape: \", output.shape)\n",
    "\n",
    "out, m, l = model.forward(x)\n",
    "vae_loss(out, x, m, l)"
   ]
  },
  {
   "cell_type": "code",
   "execution_count": 50,
   "id": "renewable-soccer",
   "metadata": {},
   "outputs": [
    {
     "name": "stdout",
     "output_type": "stream",
     "text": [
      "prop1 shape:  torch.Size([1, 1000])\n",
      "prop 2 shape torch.Size([1, 1])\n"
     ]
    },
    {
     "data": {
      "text/plain": [
       "torch.Size([1, 1])"
      ]
     },
     "execution_count": 50,
     "metadata": {},
     "output_type": "execute_result"
    }
   ],
   "source": [
    "model.prediction(z).shape  # TODO should we still have batch here?"
   ]
  },
  {
   "cell_type": "code",
   "execution_count": null,
   "id": "ecological-cargo",
   "metadata": {},
   "outputs": [],
   "source": []
  },
  {
   "cell_type": "code",
   "execution_count": null,
   "id": "polar-rouge",
   "metadata": {},
   "outputs": [],
   "source": []
  }
 ],
 "metadata": {
  "kernelspec": {
   "display_name": "Python 3",
   "language": "python",
   "name": "python3"
  },
  "language_info": {
   "codemirror_mode": {
    "name": "ipython",
    "version": 3
   },
   "file_extension": ".py",
   "mimetype": "text/x-python",
   "name": "python",
   "nbconvert_exporter": "python",
   "pygments_lexer": "ipython3",
   "version": "3.8.5"
  }
 },
 "nbformat": 4,
 "nbformat_minor": 5
}
